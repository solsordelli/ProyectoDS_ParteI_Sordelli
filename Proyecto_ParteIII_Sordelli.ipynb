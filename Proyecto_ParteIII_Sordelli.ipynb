{
  "cells": [
    {
      "cell_type": "markdown",
      "metadata": {
        "id": "view-in-github",
        "colab_type": "text"
      },
      "source": [
        "<a href=\"https://colab.research.google.com/github/solsordelli/ProyectoDS_ParteI_Sordelli/blob/main/Proyecto_ParteIII_Sordelli.ipynb\" target=\"_parent\"><img src=\"https://colab.research.google.com/assets/colab-badge.svg\" alt=\"Open In Colab\"/></a>"
      ]
    },
    {
      "cell_type": "markdown",
      "source": [
        "# ***¿Qué tan bien funcionan los sistemas de Seguridad?***"
      ],
      "metadata": {
        "id": "b7rxcrIYrP-B"
      }
    },
    {
      "cell_type": "markdown",
      "source": [
        "En este proyecto se evaluara, a traves de un modelo, cuál será la acción tomada por los sistemas de seguridad (Blocked, Logged, Ignored) con base en los datos del ataque. El objetivo principal es anticipar la respuesta del sistema e identificar puntos de mejora en los sistemas de deteccion.\n",
        "En el analisis anterior se plantearon las siguientes hipotesis,\n",
        "Pregunta 1: Cuáles son los protocolos más utilizados en los ciberataques?\n",
        "\n",
        "Hipótesis: Se espera que ciertos protocolos, como HTTP y TCP, sean más frecuentemente utilizados en los ciberataques debido a su prevalencia en la comunicación de redes.\n",
        "\n",
        "Pregunta 2: El número de eventos bloqueados/ingresados/ignorados aumenta o disminuye con valores más altos de Anomaly Scores?\n",
        "\n",
        "Hipótesis: Es probable que los eventos con valores más altos de Anomaly Scores estén asociados con una mayor cantidad de eventos bloqueados, ya que puntajes más altos podrían indicar actividades más sospechosas.\n",
        "\n",
        "Pregunta 3: La mayor cantidad de ataque se producen por la madrugada? Esto podria deberse a que en esos horarios la seguridad baja ya que no suelen haber persoans controlando los sistemas y trabajando sobre los mismos\n",
        "\n",
        "Hipótesis: Se espera encontrar una mayor concentración de ataques durante la madrugada, lo cual podría estar relacionado con la reducción de la supervisión durante esas horas.\n",
        "\n",
        "Pregunta 4: Cómo varía la frecuencia de ataques a lo largo del año para cada tipo de ataque?\n",
        "\n",
        "Hipótesis: Es posible que algunos tipos de ataques sigan patrones estacionales, con picos en ciertas épocas del año.\n",
        "\n",
        "Las cuales perimitieron tener mayor conocimiento y dominio de los datos dentro del DataSet\n"
      ],
      "metadata": {
        "id": "88h0T6c_1Cqd"
      }
    },
    {
      "cell_type": "markdown",
      "source": [
        "Importamos las librerias a utilizar para el analisis"
      ],
      "metadata": {
        "id": "jBaZ4Xyfrm_5"
      }
    },
    {
      "cell_type": "code",
      "execution_count": 2,
      "metadata": {
        "id": "VnqatD7jODxt"
      },
      "outputs": [],
      "source": [
        "import pandas as pd\n",
        "import matplotlib.pyplot as plt\n",
        "from google.colab import files\n",
        "import seaborn as sns\n",
        "import numpy as np\n",
        "from sklearn.feature_selection import VarianceThreshold\n",
        "from sklearn.ensemble import RandomForestClassifier\n",
        "from sklearn.model_selection import train_test_split\n",
        "from sklearn.preprocessing import LabelEncoder"
      ]
    },
    {
      "cell_type": "markdown",
      "source": [
        "Se carga el DataSet utilizado"
      ],
      "metadata": {
        "id": "Zv85UqZfrBSJ"
      }
    },
    {
      "cell_type": "code",
      "execution_count": 3,
      "metadata": {
        "colab": {
          "base_uri": "https://localhost:8080/",
          "height": 1000
        },
        "id": "0tEDMaNJOIji",
        "outputId": "c098196e-3b93-4368-b347-075293b00472"
      },
      "outputs": [
        {
          "output_type": "display_data",
          "data": {
            "text/plain": [
              "<IPython.core.display.HTML object>"
            ],
            "text/html": [
              "\n",
              "     <input type=\"file\" id=\"files-97daab72-d8a1-4f77-81fe-2da2a8bc8fe8\" name=\"files[]\" multiple disabled\n",
              "        style=\"border:none\" />\n",
              "     <output id=\"result-97daab72-d8a1-4f77-81fe-2da2a8bc8fe8\">\n",
              "      Upload widget is only available when the cell has been executed in the\n",
              "      current browser session. Please rerun this cell to enable.\n",
              "      </output>\n",
              "      <script>// Copyright 2017 Google LLC\n",
              "//\n",
              "// Licensed under the Apache License, Version 2.0 (the \"License\");\n",
              "// you may not use this file except in compliance with the License.\n",
              "// You may obtain a copy of the License at\n",
              "//\n",
              "//      http://www.apache.org/licenses/LICENSE-2.0\n",
              "//\n",
              "// Unless required by applicable law or agreed to in writing, software\n",
              "// distributed under the License is distributed on an \"AS IS\" BASIS,\n",
              "// WITHOUT WARRANTIES OR CONDITIONS OF ANY KIND, either express or implied.\n",
              "// See the License for the specific language governing permissions and\n",
              "// limitations under the License.\n",
              "\n",
              "/**\n",
              " * @fileoverview Helpers for google.colab Python module.\n",
              " */\n",
              "(function(scope) {\n",
              "function span(text, styleAttributes = {}) {\n",
              "  const element = document.createElement('span');\n",
              "  element.textContent = text;\n",
              "  for (const key of Object.keys(styleAttributes)) {\n",
              "    element.style[key] = styleAttributes[key];\n",
              "  }\n",
              "  return element;\n",
              "}\n",
              "\n",
              "// Max number of bytes which will be uploaded at a time.\n",
              "const MAX_PAYLOAD_SIZE = 100 * 1024;\n",
              "\n",
              "function _uploadFiles(inputId, outputId) {\n",
              "  const steps = uploadFilesStep(inputId, outputId);\n",
              "  const outputElement = document.getElementById(outputId);\n",
              "  // Cache steps on the outputElement to make it available for the next call\n",
              "  // to uploadFilesContinue from Python.\n",
              "  outputElement.steps = steps;\n",
              "\n",
              "  return _uploadFilesContinue(outputId);\n",
              "}\n",
              "\n",
              "// This is roughly an async generator (not supported in the browser yet),\n",
              "// where there are multiple asynchronous steps and the Python side is going\n",
              "// to poll for completion of each step.\n",
              "// This uses a Promise to block the python side on completion of each step,\n",
              "// then passes the result of the previous step as the input to the next step.\n",
              "function _uploadFilesContinue(outputId) {\n",
              "  const outputElement = document.getElementById(outputId);\n",
              "  const steps = outputElement.steps;\n",
              "\n",
              "  const next = steps.next(outputElement.lastPromiseValue);\n",
              "  return Promise.resolve(next.value.promise).then((value) => {\n",
              "    // Cache the last promise value to make it available to the next\n",
              "    // step of the generator.\n",
              "    outputElement.lastPromiseValue = value;\n",
              "    return next.value.response;\n",
              "  });\n",
              "}\n",
              "\n",
              "/**\n",
              " * Generator function which is called between each async step of the upload\n",
              " * process.\n",
              " * @param {string} inputId Element ID of the input file picker element.\n",
              " * @param {string} outputId Element ID of the output display.\n",
              " * @return {!Iterable<!Object>} Iterable of next steps.\n",
              " */\n",
              "function* uploadFilesStep(inputId, outputId) {\n",
              "  const inputElement = document.getElementById(inputId);\n",
              "  inputElement.disabled = false;\n",
              "\n",
              "  const outputElement = document.getElementById(outputId);\n",
              "  outputElement.innerHTML = '';\n",
              "\n",
              "  const pickedPromise = new Promise((resolve) => {\n",
              "    inputElement.addEventListener('change', (e) => {\n",
              "      resolve(e.target.files);\n",
              "    });\n",
              "  });\n",
              "\n",
              "  const cancel = document.createElement('button');\n",
              "  inputElement.parentElement.appendChild(cancel);\n",
              "  cancel.textContent = 'Cancel upload';\n",
              "  const cancelPromise = new Promise((resolve) => {\n",
              "    cancel.onclick = () => {\n",
              "      resolve(null);\n",
              "    };\n",
              "  });\n",
              "\n",
              "  // Wait for the user to pick the files.\n",
              "  const files = yield {\n",
              "    promise: Promise.race([pickedPromise, cancelPromise]),\n",
              "    response: {\n",
              "      action: 'starting',\n",
              "    }\n",
              "  };\n",
              "\n",
              "  cancel.remove();\n",
              "\n",
              "  // Disable the input element since further picks are not allowed.\n",
              "  inputElement.disabled = true;\n",
              "\n",
              "  if (!files) {\n",
              "    return {\n",
              "      response: {\n",
              "        action: 'complete',\n",
              "      }\n",
              "    };\n",
              "  }\n",
              "\n",
              "  for (const file of files) {\n",
              "    const li = document.createElement('li');\n",
              "    li.append(span(file.name, {fontWeight: 'bold'}));\n",
              "    li.append(span(\n",
              "        `(${file.type || 'n/a'}) - ${file.size} bytes, ` +\n",
              "        `last modified: ${\n",
              "            file.lastModifiedDate ? file.lastModifiedDate.toLocaleDateString() :\n",
              "                                    'n/a'} - `));\n",
              "    const percent = span('0% done');\n",
              "    li.appendChild(percent);\n",
              "\n",
              "    outputElement.appendChild(li);\n",
              "\n",
              "    const fileDataPromise = new Promise((resolve) => {\n",
              "      const reader = new FileReader();\n",
              "      reader.onload = (e) => {\n",
              "        resolve(e.target.result);\n",
              "      };\n",
              "      reader.readAsArrayBuffer(file);\n",
              "    });\n",
              "    // Wait for the data to be ready.\n",
              "    let fileData = yield {\n",
              "      promise: fileDataPromise,\n",
              "      response: {\n",
              "        action: 'continue',\n",
              "      }\n",
              "    };\n",
              "\n",
              "    // Use a chunked sending to avoid message size limits. See b/62115660.\n",
              "    let position = 0;\n",
              "    do {\n",
              "      const length = Math.min(fileData.byteLength - position, MAX_PAYLOAD_SIZE);\n",
              "      const chunk = new Uint8Array(fileData, position, length);\n",
              "      position += length;\n",
              "\n",
              "      const base64 = btoa(String.fromCharCode.apply(null, chunk));\n",
              "      yield {\n",
              "        response: {\n",
              "          action: 'append',\n",
              "          file: file.name,\n",
              "          data: base64,\n",
              "        },\n",
              "      };\n",
              "\n",
              "      let percentDone = fileData.byteLength === 0 ?\n",
              "          100 :\n",
              "          Math.round((position / fileData.byteLength) * 100);\n",
              "      percent.textContent = `${percentDone}% done`;\n",
              "\n",
              "    } while (position < fileData.byteLength);\n",
              "  }\n",
              "\n",
              "  // All done.\n",
              "  yield {\n",
              "    response: {\n",
              "      action: 'complete',\n",
              "    }\n",
              "  };\n",
              "}\n",
              "\n",
              "scope.google = scope.google || {};\n",
              "scope.google.colab = scope.google.colab || {};\n",
              "scope.google.colab._files = {\n",
              "  _uploadFiles,\n",
              "  _uploadFilesContinue,\n",
              "};\n",
              "})(self);\n",
              "</script> "
            ]
          },
          "metadata": {}
        },
        {
          "output_type": "stream",
          "name": "stdout",
          "text": [
            "Saving cybersecurity_attacks.csv to cybersecurity_attacks (1).csv\n",
            "<class 'pandas.core.frame.DataFrame'>\n",
            "RangeIndex: 40000 entries, 0 to 39999\n",
            "Data columns (total 25 columns):\n",
            " #   Column                  Non-Null Count  Dtype  \n",
            "---  ------                  --------------  -----  \n",
            " 0   Timestamp               40000 non-null  object \n",
            " 1   Source IP Address       40000 non-null  object \n",
            " 2   Destination IP Address  40000 non-null  object \n",
            " 3   Source Port             40000 non-null  int64  \n",
            " 4   Destination Port        40000 non-null  int64  \n",
            " 5   Protocol                40000 non-null  object \n",
            " 6   Packet Length           40000 non-null  int64  \n",
            " 7   Packet Type             40000 non-null  object \n",
            " 8   Traffic Type            40000 non-null  object \n",
            " 9   Payload Data            40000 non-null  object \n",
            " 10  Malware Indicators      20000 non-null  object \n",
            " 11  Anomaly Scores          40000 non-null  float64\n",
            " 12  Alerts/Warnings         19933 non-null  object \n",
            " 13  Attack Type             40000 non-null  object \n",
            " 14  Attack Signature        40000 non-null  object \n",
            " 15  Action Taken            40000 non-null  object \n",
            " 16  Severity Level          40000 non-null  object \n",
            " 17  User Information        40000 non-null  object \n",
            " 18  Device Information      40000 non-null  object \n",
            " 19  Network Segment         40000 non-null  object \n",
            " 20  Geo-location Data       40000 non-null  object \n",
            " 21  Proxy Information       20149 non-null  object \n",
            " 22  Firewall Logs           20039 non-null  object \n",
            " 23  IDS/IPS Alerts          19950 non-null  object \n",
            " 24  Log Source              40000 non-null  object \n",
            "dtypes: float64(1), int64(3), object(21)\n",
            "memory usage: 7.6+ MB\n"
          ]
        },
        {
          "output_type": "execute_result",
          "data": {
            "text/plain": [
              "             Timestamp Source IP Address Destination IP Address  Source Port  \\\n",
              "0  2023-05-30 06:33:58     103.216.15.12           84.9.164.252        31225   \n",
              "1  2020-08-26 07:08:30    78.199.217.198         66.191.137.154        17245   \n",
              "2  2022-11-13 08:23:25      63.79.210.48          198.219.82.17        16811   \n",
              "3  2023-07-02 10:38:46     163.42.196.10        101.228.192.255        20018   \n",
              "4  2023-07-16 13:11:07     71.166.185.76        189.243.174.238         6131   \n",
              "\n",
              "   Destination Port Protocol  Packet Length Packet Type Traffic Type  \\\n",
              "0             17616     ICMP            503        Data         HTTP   \n",
              "1             48166     ICMP           1174        Data         HTTP   \n",
              "2             53600      UDP            306     Control         HTTP   \n",
              "3             32534      UDP            385        Data         HTTP   \n",
              "4             26646      TCP           1462        Data          DNS   \n",
              "\n",
              "                                        Payload Data  ... Action Taken  \\\n",
              "0  Qui natus odio asperiores nam. Optio nobis ius...  ...       Logged   \n",
              "1  Aperiam quos modi officiis veritatis rem. Omni...  ...      Blocked   \n",
              "2  Perferendis sapiente vitae soluta. Hic delectu...  ...      Ignored   \n",
              "3  Totam maxime beatae expedita explicabo porro l...  ...      Blocked   \n",
              "4  Odit nesciunt dolorem nisi iste iusto. Animi v...  ...      Blocked   \n",
              "\n",
              "   Severity Level User Information  \\\n",
              "0             Low    Reyansh Dugal   \n",
              "1             Low       Sumer Rana   \n",
              "2             Low     Himmat Karpe   \n",
              "3          Medium       Fateh Kibe   \n",
              "4             Low     Dhanush Chad   \n",
              "\n",
              "                                  Device Information Network Segment  \\\n",
              "0  Mozilla/5.0 (compatible; MSIE 8.0; Windows NT ...       Segment A   \n",
              "1  Mozilla/5.0 (compatible; MSIE 8.0; Windows NT ...       Segment B   \n",
              "2  Mozilla/5.0 (compatible; MSIE 9.0; Windows NT ...       Segment C   \n",
              "3  Mozilla/5.0 (Macintosh; PPC Mac OS X 10_11_5; ...       Segment B   \n",
              "4  Mozilla/5.0 (compatible; MSIE 5.0; Windows NT ...       Segment C   \n",
              "\n",
              "    Geo-location Data Proxy Information Firewall Logs IDS/IPS Alerts  \\\n",
              "0  Jamshedpur, Sikkim      150.9.97.135      Log Data            NaN   \n",
              "1  Bilaspur, Nagaland               NaN      Log Data            NaN   \n",
              "2   Bokaro, Rajasthan    114.133.48.179      Log Data     Alert Data   \n",
              "3  Jaunpur, Rajasthan               NaN           NaN     Alert Data   \n",
              "4  Anantapur, Tripura     149.6.110.119           NaN     Alert Data   \n",
              "\n",
              "  Log Source  \n",
              "0     Server  \n",
              "1   Firewall  \n",
              "2   Firewall  \n",
              "3   Firewall  \n",
              "4   Firewall  \n",
              "\n",
              "[5 rows x 25 columns]"
            ],
            "text/html": [
              "\n",
              "  <div id=\"df-3412c146-d777-485b-accc-57fa1cb9d85c\" class=\"colab-df-container\">\n",
              "    <div>\n",
              "<style scoped>\n",
              "    .dataframe tbody tr th:only-of-type {\n",
              "        vertical-align: middle;\n",
              "    }\n",
              "\n",
              "    .dataframe tbody tr th {\n",
              "        vertical-align: top;\n",
              "    }\n",
              "\n",
              "    .dataframe thead th {\n",
              "        text-align: right;\n",
              "    }\n",
              "</style>\n",
              "<table border=\"1\" class=\"dataframe\">\n",
              "  <thead>\n",
              "    <tr style=\"text-align: right;\">\n",
              "      <th></th>\n",
              "      <th>Timestamp</th>\n",
              "      <th>Source IP Address</th>\n",
              "      <th>Destination IP Address</th>\n",
              "      <th>Source Port</th>\n",
              "      <th>Destination Port</th>\n",
              "      <th>Protocol</th>\n",
              "      <th>Packet Length</th>\n",
              "      <th>Packet Type</th>\n",
              "      <th>Traffic Type</th>\n",
              "      <th>Payload Data</th>\n",
              "      <th>...</th>\n",
              "      <th>Action Taken</th>\n",
              "      <th>Severity Level</th>\n",
              "      <th>User Information</th>\n",
              "      <th>Device Information</th>\n",
              "      <th>Network Segment</th>\n",
              "      <th>Geo-location Data</th>\n",
              "      <th>Proxy Information</th>\n",
              "      <th>Firewall Logs</th>\n",
              "      <th>IDS/IPS Alerts</th>\n",
              "      <th>Log Source</th>\n",
              "    </tr>\n",
              "  </thead>\n",
              "  <tbody>\n",
              "    <tr>\n",
              "      <th>0</th>\n",
              "      <td>2023-05-30 06:33:58</td>\n",
              "      <td>103.216.15.12</td>\n",
              "      <td>84.9.164.252</td>\n",
              "      <td>31225</td>\n",
              "      <td>17616</td>\n",
              "      <td>ICMP</td>\n",
              "      <td>503</td>\n",
              "      <td>Data</td>\n",
              "      <td>HTTP</td>\n",
              "      <td>Qui natus odio asperiores nam. Optio nobis ius...</td>\n",
              "      <td>...</td>\n",
              "      <td>Logged</td>\n",
              "      <td>Low</td>\n",
              "      <td>Reyansh Dugal</td>\n",
              "      <td>Mozilla/5.0 (compatible; MSIE 8.0; Windows NT ...</td>\n",
              "      <td>Segment A</td>\n",
              "      <td>Jamshedpur, Sikkim</td>\n",
              "      <td>150.9.97.135</td>\n",
              "      <td>Log Data</td>\n",
              "      <td>NaN</td>\n",
              "      <td>Server</td>\n",
              "    </tr>\n",
              "    <tr>\n",
              "      <th>1</th>\n",
              "      <td>2020-08-26 07:08:30</td>\n",
              "      <td>78.199.217.198</td>\n",
              "      <td>66.191.137.154</td>\n",
              "      <td>17245</td>\n",
              "      <td>48166</td>\n",
              "      <td>ICMP</td>\n",
              "      <td>1174</td>\n",
              "      <td>Data</td>\n",
              "      <td>HTTP</td>\n",
              "      <td>Aperiam quos modi officiis veritatis rem. Omni...</td>\n",
              "      <td>...</td>\n",
              "      <td>Blocked</td>\n",
              "      <td>Low</td>\n",
              "      <td>Sumer Rana</td>\n",
              "      <td>Mozilla/5.0 (compatible; MSIE 8.0; Windows NT ...</td>\n",
              "      <td>Segment B</td>\n",
              "      <td>Bilaspur, Nagaland</td>\n",
              "      <td>NaN</td>\n",
              "      <td>Log Data</td>\n",
              "      <td>NaN</td>\n",
              "      <td>Firewall</td>\n",
              "    </tr>\n",
              "    <tr>\n",
              "      <th>2</th>\n",
              "      <td>2022-11-13 08:23:25</td>\n",
              "      <td>63.79.210.48</td>\n",
              "      <td>198.219.82.17</td>\n",
              "      <td>16811</td>\n",
              "      <td>53600</td>\n",
              "      <td>UDP</td>\n",
              "      <td>306</td>\n",
              "      <td>Control</td>\n",
              "      <td>HTTP</td>\n",
              "      <td>Perferendis sapiente vitae soluta. Hic delectu...</td>\n",
              "      <td>...</td>\n",
              "      <td>Ignored</td>\n",
              "      <td>Low</td>\n",
              "      <td>Himmat Karpe</td>\n",
              "      <td>Mozilla/5.0 (compatible; MSIE 9.0; Windows NT ...</td>\n",
              "      <td>Segment C</td>\n",
              "      <td>Bokaro, Rajasthan</td>\n",
              "      <td>114.133.48.179</td>\n",
              "      <td>Log Data</td>\n",
              "      <td>Alert Data</td>\n",
              "      <td>Firewall</td>\n",
              "    </tr>\n",
              "    <tr>\n",
              "      <th>3</th>\n",
              "      <td>2023-07-02 10:38:46</td>\n",
              "      <td>163.42.196.10</td>\n",
              "      <td>101.228.192.255</td>\n",
              "      <td>20018</td>\n",
              "      <td>32534</td>\n",
              "      <td>UDP</td>\n",
              "      <td>385</td>\n",
              "      <td>Data</td>\n",
              "      <td>HTTP</td>\n",
              "      <td>Totam maxime beatae expedita explicabo porro l...</td>\n",
              "      <td>...</td>\n",
              "      <td>Blocked</td>\n",
              "      <td>Medium</td>\n",
              "      <td>Fateh Kibe</td>\n",
              "      <td>Mozilla/5.0 (Macintosh; PPC Mac OS X 10_11_5; ...</td>\n",
              "      <td>Segment B</td>\n",
              "      <td>Jaunpur, Rajasthan</td>\n",
              "      <td>NaN</td>\n",
              "      <td>NaN</td>\n",
              "      <td>Alert Data</td>\n",
              "      <td>Firewall</td>\n",
              "    </tr>\n",
              "    <tr>\n",
              "      <th>4</th>\n",
              "      <td>2023-07-16 13:11:07</td>\n",
              "      <td>71.166.185.76</td>\n",
              "      <td>189.243.174.238</td>\n",
              "      <td>6131</td>\n",
              "      <td>26646</td>\n",
              "      <td>TCP</td>\n",
              "      <td>1462</td>\n",
              "      <td>Data</td>\n",
              "      <td>DNS</td>\n",
              "      <td>Odit nesciunt dolorem nisi iste iusto. Animi v...</td>\n",
              "      <td>...</td>\n",
              "      <td>Blocked</td>\n",
              "      <td>Low</td>\n",
              "      <td>Dhanush Chad</td>\n",
              "      <td>Mozilla/5.0 (compatible; MSIE 5.0; Windows NT ...</td>\n",
              "      <td>Segment C</td>\n",
              "      <td>Anantapur, Tripura</td>\n",
              "      <td>149.6.110.119</td>\n",
              "      <td>NaN</td>\n",
              "      <td>Alert Data</td>\n",
              "      <td>Firewall</td>\n",
              "    </tr>\n",
              "  </tbody>\n",
              "</table>\n",
              "<p>5 rows × 25 columns</p>\n",
              "</div>\n",
              "    <div class=\"colab-df-buttons\">\n",
              "\n",
              "  <div class=\"colab-df-container\">\n",
              "    <button class=\"colab-df-convert\" onclick=\"convertToInteractive('df-3412c146-d777-485b-accc-57fa1cb9d85c')\"\n",
              "            title=\"Convert this dataframe to an interactive table.\"\n",
              "            style=\"display:none;\">\n",
              "\n",
              "  <svg xmlns=\"http://www.w3.org/2000/svg\" height=\"24px\" viewBox=\"0 -960 960 960\">\n",
              "    <path d=\"M120-120v-720h720v720H120Zm60-500h600v-160H180v160Zm220 220h160v-160H400v160Zm0 220h160v-160H400v160ZM180-400h160v-160H180v160Zm440 0h160v-160H620v160ZM180-180h160v-160H180v160Zm440 0h160v-160H620v160Z\"/>\n",
              "  </svg>\n",
              "    </button>\n",
              "\n",
              "  <style>\n",
              "    .colab-df-container {\n",
              "      display:flex;\n",
              "      gap: 12px;\n",
              "    }\n",
              "\n",
              "    .colab-df-convert {\n",
              "      background-color: #E8F0FE;\n",
              "      border: none;\n",
              "      border-radius: 50%;\n",
              "      cursor: pointer;\n",
              "      display: none;\n",
              "      fill: #1967D2;\n",
              "      height: 32px;\n",
              "      padding: 0 0 0 0;\n",
              "      width: 32px;\n",
              "    }\n",
              "\n",
              "    .colab-df-convert:hover {\n",
              "      background-color: #E2EBFA;\n",
              "      box-shadow: 0px 1px 2px rgba(60, 64, 67, 0.3), 0px 1px 3px 1px rgba(60, 64, 67, 0.15);\n",
              "      fill: #174EA6;\n",
              "    }\n",
              "\n",
              "    .colab-df-buttons div {\n",
              "      margin-bottom: 4px;\n",
              "    }\n",
              "\n",
              "    [theme=dark] .colab-df-convert {\n",
              "      background-color: #3B4455;\n",
              "      fill: #D2E3FC;\n",
              "    }\n",
              "\n",
              "    [theme=dark] .colab-df-convert:hover {\n",
              "      background-color: #434B5C;\n",
              "      box-shadow: 0px 1px 3px 1px rgba(0, 0, 0, 0.15);\n",
              "      filter: drop-shadow(0px 1px 2px rgba(0, 0, 0, 0.3));\n",
              "      fill: #FFFFFF;\n",
              "    }\n",
              "  </style>\n",
              "\n",
              "    <script>\n",
              "      const buttonEl =\n",
              "        document.querySelector('#df-3412c146-d777-485b-accc-57fa1cb9d85c button.colab-df-convert');\n",
              "      buttonEl.style.display =\n",
              "        google.colab.kernel.accessAllowed ? 'block' : 'none';\n",
              "\n",
              "      async function convertToInteractive(key) {\n",
              "        const element = document.querySelector('#df-3412c146-d777-485b-accc-57fa1cb9d85c');\n",
              "        const dataTable =\n",
              "          await google.colab.kernel.invokeFunction('convertToInteractive',\n",
              "                                                    [key], {});\n",
              "        if (!dataTable) return;\n",
              "\n",
              "        const docLinkHtml = 'Like what you see? Visit the ' +\n",
              "          '<a target=\"_blank\" href=https://colab.research.google.com/notebooks/data_table.ipynb>data table notebook</a>'\n",
              "          + ' to learn more about interactive tables.';\n",
              "        element.innerHTML = '';\n",
              "        dataTable['output_type'] = 'display_data';\n",
              "        await google.colab.output.renderOutput(dataTable, element);\n",
              "        const docLink = document.createElement('div');\n",
              "        docLink.innerHTML = docLinkHtml;\n",
              "        element.appendChild(docLink);\n",
              "      }\n",
              "    </script>\n",
              "  </div>\n",
              "\n",
              "\n",
              "<div id=\"df-caf50aa5-066a-4cfc-8ee0-e48885a2ee9d\">\n",
              "  <button class=\"colab-df-quickchart\" onclick=\"quickchart('df-caf50aa5-066a-4cfc-8ee0-e48885a2ee9d')\"\n",
              "            title=\"Suggest charts\"\n",
              "            style=\"display:none;\">\n",
              "\n",
              "<svg xmlns=\"http://www.w3.org/2000/svg\" height=\"24px\"viewBox=\"0 0 24 24\"\n",
              "     width=\"24px\">\n",
              "    <g>\n",
              "        <path d=\"M19 3H5c-1.1 0-2 .9-2 2v14c0 1.1.9 2 2 2h14c1.1 0 2-.9 2-2V5c0-1.1-.9-2-2-2zM9 17H7v-7h2v7zm4 0h-2V7h2v10zm4 0h-2v-4h2v4z\"/>\n",
              "    </g>\n",
              "</svg>\n",
              "  </button>\n",
              "\n",
              "<style>\n",
              "  .colab-df-quickchart {\n",
              "      --bg-color: #E8F0FE;\n",
              "      --fill-color: #1967D2;\n",
              "      --hover-bg-color: #E2EBFA;\n",
              "      --hover-fill-color: #174EA6;\n",
              "      --disabled-fill-color: #AAA;\n",
              "      --disabled-bg-color: #DDD;\n",
              "  }\n",
              "\n",
              "  [theme=dark] .colab-df-quickchart {\n",
              "      --bg-color: #3B4455;\n",
              "      --fill-color: #D2E3FC;\n",
              "      --hover-bg-color: #434B5C;\n",
              "      --hover-fill-color: #FFFFFF;\n",
              "      --disabled-bg-color: #3B4455;\n",
              "      --disabled-fill-color: #666;\n",
              "  }\n",
              "\n",
              "  .colab-df-quickchart {\n",
              "    background-color: var(--bg-color);\n",
              "    border: none;\n",
              "    border-radius: 50%;\n",
              "    cursor: pointer;\n",
              "    display: none;\n",
              "    fill: var(--fill-color);\n",
              "    height: 32px;\n",
              "    padding: 0;\n",
              "    width: 32px;\n",
              "  }\n",
              "\n",
              "  .colab-df-quickchart:hover {\n",
              "    background-color: var(--hover-bg-color);\n",
              "    box-shadow: 0 1px 2px rgba(60, 64, 67, 0.3), 0 1px 3px 1px rgba(60, 64, 67, 0.15);\n",
              "    fill: var(--button-hover-fill-color);\n",
              "  }\n",
              "\n",
              "  .colab-df-quickchart-complete:disabled,\n",
              "  .colab-df-quickchart-complete:disabled:hover {\n",
              "    background-color: var(--disabled-bg-color);\n",
              "    fill: var(--disabled-fill-color);\n",
              "    box-shadow: none;\n",
              "  }\n",
              "\n",
              "  .colab-df-spinner {\n",
              "    border: 2px solid var(--fill-color);\n",
              "    border-color: transparent;\n",
              "    border-bottom-color: var(--fill-color);\n",
              "    animation:\n",
              "      spin 1s steps(1) infinite;\n",
              "  }\n",
              "\n",
              "  @keyframes spin {\n",
              "    0% {\n",
              "      border-color: transparent;\n",
              "      border-bottom-color: var(--fill-color);\n",
              "      border-left-color: var(--fill-color);\n",
              "    }\n",
              "    20% {\n",
              "      border-color: transparent;\n",
              "      border-left-color: var(--fill-color);\n",
              "      border-top-color: var(--fill-color);\n",
              "    }\n",
              "    30% {\n",
              "      border-color: transparent;\n",
              "      border-left-color: var(--fill-color);\n",
              "      border-top-color: var(--fill-color);\n",
              "      border-right-color: var(--fill-color);\n",
              "    }\n",
              "    40% {\n",
              "      border-color: transparent;\n",
              "      border-right-color: var(--fill-color);\n",
              "      border-top-color: var(--fill-color);\n",
              "    }\n",
              "    60% {\n",
              "      border-color: transparent;\n",
              "      border-right-color: var(--fill-color);\n",
              "    }\n",
              "    80% {\n",
              "      border-color: transparent;\n",
              "      border-right-color: var(--fill-color);\n",
              "      border-bottom-color: var(--fill-color);\n",
              "    }\n",
              "    90% {\n",
              "      border-color: transparent;\n",
              "      border-bottom-color: var(--fill-color);\n",
              "    }\n",
              "  }\n",
              "</style>\n",
              "\n",
              "  <script>\n",
              "    async function quickchart(key) {\n",
              "      const quickchartButtonEl =\n",
              "        document.querySelector('#' + key + ' button');\n",
              "      quickchartButtonEl.disabled = true;  // To prevent multiple clicks.\n",
              "      quickchartButtonEl.classList.add('colab-df-spinner');\n",
              "      try {\n",
              "        const charts = await google.colab.kernel.invokeFunction(\n",
              "            'suggestCharts', [key], {});\n",
              "      } catch (error) {\n",
              "        console.error('Error during call to suggestCharts:', error);\n",
              "      }\n",
              "      quickchartButtonEl.classList.remove('colab-df-spinner');\n",
              "      quickchartButtonEl.classList.add('colab-df-quickchart-complete');\n",
              "    }\n",
              "    (() => {\n",
              "      let quickchartButtonEl =\n",
              "        document.querySelector('#df-caf50aa5-066a-4cfc-8ee0-e48885a2ee9d button');\n",
              "      quickchartButtonEl.style.display =\n",
              "        google.colab.kernel.accessAllowed ? 'block' : 'none';\n",
              "    })();\n",
              "  </script>\n",
              "</div>\n",
              "\n",
              "    </div>\n",
              "  </div>\n"
            ],
            "application/vnd.google.colaboratory.intrinsic+json": {
              "type": "dataframe",
              "variable_name": "df"
            }
          },
          "metadata": {},
          "execution_count": 3
        }
      ],
      "source": [
        "uploaded = files.upload()\n",
        "df = pd.read_csv('cybersecurity_attacks.csv', sep=',', encoding='latin1')\n",
        "df.info()\n",
        "df.head()"
      ]
    },
    {
      "cell_type": "markdown",
      "source": [
        "# **Analisis de las Variables**"
      ],
      "metadata": {
        "id": "a4SsbuPz9e_g"
      }
    },
    {
      "cell_type": "markdown",
      "source": [
        "En primer lugar nos interesa saber cuál es el balance de las acciones tomadas (Action Taken) ya que va a ser nuestra variable principal"
      ],
      "metadata": {
        "id": "mxCYAHL66KlS"
      }
    },
    {
      "cell_type": "code",
      "source": [
        "print(df['Action Taken'].value_counts())"
      ],
      "metadata": {
        "colab": {
          "base_uri": "https://localhost:8080/"
        },
        "id": "9HPfvrOR1aQT",
        "outputId": "cb01ccca-ebbc-4348-a7fe-3d1aeef0bc07"
      },
      "execution_count": 4,
      "outputs": [
        {
          "output_type": "stream",
          "name": "stdout",
          "text": [
            "Action Taken\n",
            "Blocked    13529\n",
            "Ignored    13276\n",
            "Logged     13195\n",
            "Name: count, dtype: int64\n"
          ]
        }
      ]
    },
    {
      "cell_type": "markdown",
      "source": [
        "A simple vista se puede observar que la categoria esta muy balanceada entre las 3 acciones, pero se ve mas claro a traves del grafico de barras.\n",
        "Por otro lado, se verifica la distribucion de Packet Length y Anomaly Scores, esto se debe a que se busca identificar si hay valores atipicos y entender cuál es el comportamiento habitual de estas variables"
      ],
      "metadata": {
        "id": "ZTTVFcPU6WGD"
      }
    },
    {
      "cell_type": "code",
      "source": [
        "# Gráfico de barras para ver la distribución\n",
        "sns.countplot(x='Action Taken', data=df)\n",
        "plt.title('Distribución de las Acciones Tomadas')\n",
        "plt.show()\n",
        "\n",
        "# Gráficos de distribución de algunas características numéricas\n",
        "for col in ['Packet Length', 'Anomaly Scores']:\n",
        "    plt.figure(figsize=(8,4))\n",
        "    sns.histplot(df[col], kde=True)\n",
        "    plt.title(f'Distribución de {col}')\n",
        "    plt.show()"
      ],
      "metadata": {
        "colab": {
          "base_uri": "https://localhost:8080/",
          "height": 1000
        },
        "id": "vHvCjwCI1jPI",
        "outputId": "9c994ada-dcdc-47a6-de00-b4bf061ed57a"
      },
      "execution_count": 5,
      "outputs": [
        {
          "output_type": "display_data",
          "data": {
            "text/plain": [
              "<Figure size 640x480 with 1 Axes>"
            ],
            "image/png": "[encoded data removed]"
          },
          "metadata": {}
        },
        {
          "output_type": "display_data",
          "data": {
            "text/plain": [
              "<Figure size 800x400 with 1 Axes>"
            ],
            "image/png": "[encoded data removed]"
          },
          "metadata": {}
        },
        {
          "output_type": "display_data",
          "data": {
            "text/plain": [
              "<Figure size 800x400 with 1 Axes>"
            ],
            "image/png": "[encoded data removed]"
          },
          "metadata": {}
        }
      ]
    },
    {
      "cell_type": "markdown",
      "source": [
        "Luego del analisis se identifica que hay algunos picos pequeños en ambas variables pero que en general se encuentran balanceados."
      ],
      "metadata": {
        "id": "rYQHAYdA9MN7"
      }
    },
    {
      "cell_type": "markdown",
      "source": [
        "# **Limpieza de datos**"
      ],
      "metadata": {
        "id": "j6Gga4PY9XcW"
      }
    },
    {
      "cell_type": "markdown",
      "source": [
        "Vamos a comenzar con la limpieza de datos, como se identifico al pincipio, hay una gran cantidad de columnas que posee datos \"Null\" por lo tanto, se procedeera a elimiminar aquellas que poseen mas de un 50% de valores nulos ya que no seran de ayuda cuando se realice el modelo.\n",
        "Por otro lado, se identifican las columnas categoricas para luego saber a cuales deberemos aplicarles el One-Hot Encoding y seran relevantes para el analisis.\n",
        "Tambien tenemos columnas numéricas las cules podemos identificar y correlacionar para obtener la matriz de correlación y eliminar las features altamente correlacionadas\n"
      ],
      "metadata": {
        "id": "HEQV4eyi-0_Z"
      }
    },
    {
      "cell_type": "code",
      "source": [
        "df_cleaned = df.dropna(thresh=len(df)*0.5, axis=1)\n",
        "\n",
        "categorical_cols = df_cleaned.select_dtypes(include=['object']).columns\n",
        "print(\"Columnas categóricas:\", categorical_cols)\n",
        "\n",
        "# Elige algunas columnas categóricas relevantes\n",
        "selected_categorical_cols = ['Protocol', 'Packet Type', 'Traffic Type', 'Attack Type', 'Severity Level']\n",
        "\n",
        "# Aplicar One-Hot Encoding\n",
        "df_encoded = pd.get_dummies(df_cleaned, columns=selected_categorical_cols, drop_first=True)\n",
        "\n",
        "df_numeric = df_encoded.select_dtypes(include=['number'])\n",
        "correlation_matrix = df_numeric.corr()\n",
        "\n",
        "# Matriz de correlación\n",
        "plt.figure(figsize=(12,8))\n",
        "sns.heatmap(correlation_matrix, annot=False, cmap='coolwarm')\n",
        "plt.title('Matriz de Correlación')\n",
        "plt.show()\n",
        "\n",
        "correlated_features = set()\n",
        "correlation_threshold = 0.85\n",
        "for i in range(len(correlation_matrix.columns)):\n",
        "    for j in range(i):\n",
        "        if abs(correlation_matrix.iloc[i, j]) > correlation_threshold:\n",
        "            colname = correlation_matrix.columns[i]\n",
        "            correlated_features.add(colname)\n",
        "\n",
        "df_selected = df_encoded.drop(columns=correlated_features)\n",
        "\n",
        "print(\"Dimensiones del dataset tras la selección de características:\", df_selected.shape)\n"
      ],
      "metadata": {
        "colab": {
          "base_uri": "https://localhost:8080/",
          "height": 842
        },
        "id": "tfgKu5iazIZv",
        "outputId": "ffa8b334-cd91-4442-9b92-19cc56451887"
      },
      "execution_count": 7,
      "outputs": [
        {
          "output_type": "stream",
          "name": "stdout",
          "text": [
            "Columnas categóricas: Index(['Timestamp', 'Source IP Address', 'Destination IP Address', 'Protocol',\n",
            "       'Packet Type', 'Traffic Type', 'Payload Data', 'Malware Indicators',\n",
            "       'Attack Type', 'Attack Signature', 'Action Taken', 'Severity Level',\n",
            "       'User Information', 'Device Information', 'Network Segment',\n",
            "       'Geo-location Data', 'Proxy Information', 'Firewall Logs',\n",
            "       'Log Source'],\n",
            "      dtype='object')\n"
          ]
        },
        {
          "output_type": "display_data",
          "data": {
            "text/plain": [
              "<Figure size 1200x800 with 2 Axes>"
            ],
            "image/png": "[encoded data removed]"
          },
          "metadata": {}
        },
        {
          "output_type": "stream",
          "name": "stdout",
          "text": [
            "Dimensiones del dataset tras la selección de características: (40000, 27)\n"
          ]
        }
      ]
    },
    {
      "cell_type": "markdown",
      "source": [
        "Luego de todo el analisis y el tratamiento de los datos, se pudieron reducir las features a 27"
      ],
      "metadata": {
        "id": "tQlDFbBuAzMh"
      }
    },
    {
      "cell_type": "markdown",
      "source": [
        "# **Creacion del modelo**"
      ],
      "metadata": {
        "id": "MGABerP09laL"
      }
    },
    {
      "cell_type": "markdown",
      "source": [
        "Como se observa, este conjunto de datos posee Datos Categóricos y Numéricos, por lo tanto el modelo a utilizar sera un Random Forest ya que puede manejar tanto características categóricas como numéricas sin necesidad de una transformación extensa. Esto es ventajoso en un conjunto de datos de ciberataques donde las características pueden ser diversas."
      ],
      "metadata": {
        "id": "HUU1BqixA0C-"
      }
    },
    {
      "cell_type": "code",
      "source": [
        "from sklearn.model_selection import train_test_split\n",
        "from sklearn.ensemble import RandomForestClassifier\n",
        "from sklearn.metrics import accuracy_score, classification_report, confusion_matrix\n",
        "\n",
        "df_selected['Action Taken'] = df['Action Taken']\n",
        "\n",
        "# Eliminar columnas no numéricas irrelevantes\n",
        "columns_to_drop = ['Timestamp', 'Source IP Address', 'Destination IP Address', 'Payload Data',\n",
        "                   'User Information', 'Device Information', 'Geo-location Data', 'Proxy Information']\n",
        "\n",
        "df_selected_clean = df_selected.drop(columns=columns_to_drop)\n",
        "\n",
        "# Verificar si quedan columnas categóricas y convertirlas si es necesario (One-Hot Encoding)\n",
        "df_selected_clean = pd.get_dummies(df_selected_clean, drop_first=True)\n",
        "\n",
        "# Asegúrate de que 'Action Taken' siga en el dataset\n",
        "if 'Action Taken' not in df_selected_clean.columns:\n",
        "    df_selected_clean['Action Taken'] = df['Action Taken']\n",
        "\n",
        "# Definir las características (X) y la variable objetivo (y)\n",
        "X = df_selected_clean.drop(columns=['Action Taken'])\n",
        "y = df_selected_clean['Action Taken']\n",
        "\n",
        "# Convertir la variable objetivo a numérica si es necesario\n",
        "y = y.astype('category').cat.codes\n",
        "\n",
        "# Dividir el dataset en conjunto de entrenamiento y prueba (80% entrenamiento, 20% prueba)\n",
        "X_train, X_test, y_train, y_test = train_test_split(X, y, test_size=0.2, random_state=42)\n",
        "\n",
        "# Entrenar el modelo Random Forest\n",
        "rf = RandomForestClassifier(n_estimators=100, random_state=42)\n",
        "rf.fit(X_train, y_train)\n",
        "\n",
        "y_pred = rf.predict(X_test)\n",
        "\n",
        "# Métricas de evaluación\n",
        "print(f\"Accuracy: {accuracy_score(y_test, y_pred):.4f}\")\n",
        "print(\"\\nClassification Report:\\n\", classification_report(y_test, y_pred))\n",
        "\n",
        "# Matriz de confusión\n",
        "conf_matrix = confusion_matrix(y_test, y_pred)\n",
        "\n",
        "# Visualización\n",
        "plt.figure(figsize=(6,6))\n",
        "sns.heatmap(conf_matrix, annot=True, fmt=\"d\", cmap=\"Blues\", xticklabels=rf.classes_, yticklabels=rf.classes_)\n",
        "plt.ylabel('Actual')\n",
        "plt.xlabel('Predicted')\n",
        "plt.title('Matriz de Confusión')\n",
        "plt.show()"
      ],
      "metadata": {
        "colab": {
          "base_uri": "https://localhost:8080/",
          "height": 796
        },
        "id": "9wM8Meph1-4t",
        "outputId": "da687d93-9577-4710-ce84-7efbbf262731"
      },
      "execution_count": 11,
      "outputs": [
        {
          "output_type": "stream",
          "name": "stdout",
          "text": [
            "Accuracy: 1.0000\n",
            "\n",
            "Classification Report:\n",
            "               precision    recall  f1-score   support\n",
            "\n",
            "           0       1.00      1.00      1.00      2733\n",
            "           1       1.00      1.00      1.00      2622\n",
            "           2       1.00      1.00      1.00      2645\n",
            "\n",
            "    accuracy                           1.00      8000\n",
            "   macro avg       1.00      1.00      1.00      8000\n",
            "weighted avg       1.00      1.00      1.00      8000\n",
            "\n"
          ]
        },
        {
          "output_type": "display_data",
          "data": {
            "text/plain": [
              "<Figure size 600x600 with 2 Axes>"
            ],
            "image/png": "[encoded data removed]"
          },
          "metadata": {}
        }
      ]
    },
    {
      "cell_type": "markdown",
      "source": [
        "# **Conclusión**"
      ],
      "metadata": {
        "id": "Nm99FWSY5uAm"
      }
    },
    {
      "cell_type": "markdown",
      "source": [
        "Dados los resultados obtenidos, el modelo de Random Forest alcanzó una precisión del 100% en el conjunto de prueba, lo que da a entender que el modelo es altamente efectivo en la clasificación de las acciones tomadas (Blocked, Logged, Ignored) basándose en las features del dataset."
      ],
      "metadata": {
        "id": "8wB8OEhs5c19"
      }
    },
    {
      "cell_type": "markdown",
      "source": [
        "Este análisis no solo proporciona una comprensión clara del comportamiento de los sistemas de seguridad, sino que también abre la puerta a futuras investigaciones y mejoras. El objetivo es seguir perfeccionando la capacidad del modelo para anticipar acciones de seguridad, optimizando así la respuesta ante ciberataques y aumentando la seguridad organizacional."
      ],
      "metadata": {
        "id": "aiNGvak25u2r"
      }
    }
  ],
  "metadata": {
    "colab": {
      "provenance": [],
      "authorship_tag": "ABX9TyPQKZTAU6z3X2A19skRwtuC",
      "include_colab_link": true
    },
    "kernelspec": {
      "display_name": "Python 3",
      "name": "python3"
    },
    "language_info": {
      "name": "python"
    }
  },
  "nbformat": 4,
  "nbformat_minor": 0
}